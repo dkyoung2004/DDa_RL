{
 "metadata": {
  "language_info": {
   "codemirror_mode": {
    "name": "ipython",
    "version": 3
   },
   "file_extension": ".py",
   "mimetype": "text/x-python",
   "name": "python",
   "nbconvert_exporter": "python",
   "pygments_lexer": "ipython3",
   "version": "3.8.8"
  },
  "orig_nbformat": 2,
  "kernelspec": {
   "name": "python388jvsc74a57bd0337e281d33ce1a437277d983794b03069516aa531af0cd070df888e439fcc1d6",
   "display_name": "Python 3.8.8 64-bit"
  },
  "metadata": {
   "interpreter": {
    "hash": "337e281d33ce1a437277d983794b03069516aa531af0cd070df888e439fcc1d6"
   }
  }
 },
 "nbformat": 4,
 "nbformat_minor": 2,
 "cells": [
  {
   "cell_type": "code",
   "execution_count": 3,
   "metadata": {},
   "outputs": [],
   "source": [
    "import chess \n",
    "import numpy as np\n",
    "import pandas as pd \n",
    "import matplotlib.pyplot as plt\n",
    "data = pd.read_csv('C:/Users/dkyou/Documents/GitHub/DDa_RL/games.csv')"
   ]
  },
  {
   "cell_type": "code",
   "execution_count": 7,
   "metadata": {},
   "outputs": [
    {
     "output_type": "execute_result",
     "data": {
      "text/plain": [
       "<bound method DataFrame.info of              id  rated    created_at  last_move_at  turns victory_status  \\\n",
       "0      TZJHLljE  False  1.504210e+12  1.504210e+12     13      outoftime   \n",
       "1      l1NXvwaE   True  1.504130e+12  1.504130e+12     16         resign   \n",
       "2      mIICvQHh   True  1.504130e+12  1.504130e+12     61           mate   \n",
       "3      kWKvrqYL   True  1.504110e+12  1.504110e+12     61           mate   \n",
       "4      9tXo1AUZ   True  1.504030e+12  1.504030e+12     95           mate   \n",
       "...         ...    ...           ...           ...    ...            ...   \n",
       "20053  EfqH7VVH   True  1.499791e+12  1.499791e+12     24         resign   \n",
       "20054  WSJDhbPl   True  1.499698e+12  1.499699e+12     82           mate   \n",
       "20055  yrAas0Kj   True  1.499698e+12  1.499698e+12     35           mate   \n",
       "20056  b0v4tRyF   True  1.499696e+12  1.499697e+12    109         resign   \n",
       "20057  N8G2JHGG   True  1.499643e+12  1.499644e+12     78           mate   \n",
       "\n",
       "      winner increment_code       white_id  white_rating            black_id  \\\n",
       "0      white           15+2       bourgris          1500                a-00   \n",
       "1      black           5+10           a-00          1322           skinnerua   \n",
       "2      white           5+10         ischia          1496                a-00   \n",
       "3      white           20+0  daniamurashov          1439        adivanov2009   \n",
       "4      white           30+3      nik221107          1523        adivanov2009   \n",
       "...      ...            ...            ...           ...                 ...   \n",
       "20053  white          10+10        belcolt          1691            jamboger   \n",
       "20054  black           10+0       jamboger          1233  farrukhasomiddinov   \n",
       "20055  white           10+0       jamboger          1219        schaaksmurf3   \n",
       "20056  white           10+0   marcodisogno          1360            jamboger   \n",
       "20057  black           10+0       jamboger          1235               ffbob   \n",
       "\n",
       "       black_rating                                              moves  \\\n",
       "0              1191  d4 d5 c4 c6 cxd5 e6 dxe6 fxe6 Nf3 Bb4+ Nc3 Ba5...   \n",
       "1              1261  d4 Nc6 e4 e5 f4 f6 dxe5 fxe5 fxe5 Nxe5 Qd4 Nc6...   \n",
       "2              1500  e4 e5 d3 d6 Be3 c6 Be2 b5 Nd2 a5 a4 c5 axb5 Nc...   \n",
       "3              1454  d4 d5 Nf3 Bf5 Nc3 Nf6 Bf4 Ng4 e3 Nc6 Be2 Qd7 O...   \n",
       "4              1469  e4 e5 Nf3 d6 d4 Nc6 d5 Nb4 a3 Na6 Nc3 Be7 b4 N...   \n",
       "...             ...                                                ...   \n",
       "20053          1220  d4 f5 e3 e6 Nf3 Nf6 Nc3 b6 Be2 Bb7 O-O Be7 Ne5...   \n",
       "20054          1196  d4 d6 Bf4 e5 Bg3 Nf6 e3 exd4 exd4 d5 c3 Bd6 Bd...   \n",
       "20055          1286  d4 d5 Bf4 Nc6 e3 Nf6 c3 e6 Nf3 Be7 Bd3 O-O Nbd...   \n",
       "20056          1227  e4 d6 d4 Nf6 e5 dxe5 dxe5 Qxd1+ Kxd1 Nd5 c4 Nb...   \n",
       "20057          1339  d4 d5 Bf4 Na6 e3 e6 c3 Nf6 Nf3 Bd7 Nbd2 b5 Bd3...   \n",
       "\n",
       "      opening_eco                            opening_name  opening_ply  \n",
       "0             D10        Slav Defense: Exchange Variation            5  \n",
       "1             B00  Nimzowitsch Defense: Kennedy Variation            4  \n",
       "2             C20   King's Pawn Game: Leonardis Variation            3  \n",
       "3             D02  Queen's Pawn Game: Zukertort Variation            3  \n",
       "4             C41                        Philidor Defense            5  \n",
       "...           ...                                     ...          ...  \n",
       "20053         A80                           Dutch Defense            2  \n",
       "20054         A41                            Queen's Pawn            2  \n",
       "20055         D00         Queen's Pawn Game: Mason Attack            3  \n",
       "20056         B07                            Pirc Defense            4  \n",
       "20057         D00         Queen's Pawn Game: Mason Attack            3  \n",
       "\n",
       "[20058 rows x 16 columns]>"
      ]
     },
     "metadata": {},
     "execution_count": 7
    }
   ],
   "source": [
    "data.info\n"
   ]
  },
  {
   "cell_type": "code",
   "execution_count": 12,
   "metadata": {},
   "outputs": [
    {
     "output_type": "execute_result",
     "data": {
      "text/plain": [
       "0              Slav Defense: Exchange Variation\n",
       "1        Nimzowitsch Defense: Kennedy Variation\n",
       "2         King's Pawn Game: Leonardis Variation\n",
       "3        Queen's Pawn Game: Zukertort Variation\n",
       "4                              Philidor Defense\n",
       "                          ...                  \n",
       "20053                             Dutch Defense\n",
       "20054                              Queen's Pawn\n",
       "20055           Queen's Pawn Game: Mason Attack\n",
       "20056                              Pirc Defense\n",
       "20057           Queen's Pawn Game: Mason Attack\n",
       "Name: opening_name, Length: 20058, dtype: object"
      ]
     },
     "metadata": {},
     "execution_count": 12
    }
   ],
   "source": [
    "data['opening_name']\n"
   ]
  },
  {
   "cell_type": "code",
   "execution_count": 16,
   "metadata": {},
   "outputs": [
    {
     "output_type": "execute_result",
     "data": {
      "text/plain": [
       "                                      id  rated  created_at  last_move_at  \\\n",
       "opening_name                                                                \n",
       "Alekhine Defense                      46     46          46            46   \n",
       "Alekhine Defense #2                    3      3           3             3   \n",
       "Alekhine Defense #3                    1      1           1             1   \n",
       "Alekhine Defense: Balogh Variation     1      1           1             1   \n",
       "Alekhine Defense: Brooklyn Variation   2      2           2             2   \n",
       "...                                   ..    ...         ...           ...   \n",
       "Zukertort Opening: Slav Invitation    11     11          11            11   \n",
       "Zukertort Opening: Tennison Gambit    42     42          42            42   \n",
       "Zukertort Opening: The Walrus          1      1           1             1   \n",
       "Zukertort Opening: Vos Gambit          3      3           3             3   \n",
       "Zukertort Opening: Wade Defense        1      1           1             1   \n",
       "\n",
       "                                      turns  victory_status  winner  \\\n",
       "opening_name                                                          \n",
       "Alekhine Defense                         46              46      46   \n",
       "Alekhine Defense #2                       3               3       3   \n",
       "Alekhine Defense #3                       1               1       1   \n",
       "Alekhine Defense: Balogh Variation        1               1       1   \n",
       "Alekhine Defense: Brooklyn Variation      2               2       2   \n",
       "...                                     ...             ...     ...   \n",
       "Zukertort Opening: Slav Invitation       11              11      11   \n",
       "Zukertort Opening: Tennison Gambit       42              42      42   \n",
       "Zukertort Opening: The Walrus             1               1       1   \n",
       "Zukertort Opening: Vos Gambit             3               3       3   \n",
       "Zukertort Opening: Wade Defense           1               1       1   \n",
       "\n",
       "                                      increment_code  white_id  white_rating  \\\n",
       "opening_name                                                                   \n",
       "Alekhine Defense                                  46        46            46   \n",
       "Alekhine Defense #2                                3         3             3   \n",
       "Alekhine Defense #3                                1         1             1   \n",
       "Alekhine Defense: Balogh Variation                 1         1             1   \n",
       "Alekhine Defense: Brooklyn Variation               2         2             2   \n",
       "...                                              ...       ...           ...   \n",
       "Zukertort Opening: Slav Invitation                11        11            11   \n",
       "Zukertort Opening: Tennison Gambit                42        42            42   \n",
       "Zukertort Opening: The Walrus                      1         1             1   \n",
       "Zukertort Opening: Vos Gambit                      3         3             3   \n",
       "Zukertort Opening: Wade Defense                    1         1             1   \n",
       "\n",
       "                                      black_id  black_rating  moves  \\\n",
       "opening_name                                                          \n",
       "Alekhine Defense                            46            46     46   \n",
       "Alekhine Defense #2                          3             3      3   \n",
       "Alekhine Defense #3                          1             1      1   \n",
       "Alekhine Defense: Balogh Variation           1             1      1   \n",
       "Alekhine Defense: Brooklyn Variation         2             2      2   \n",
       "...                                        ...           ...    ...   \n",
       "Zukertort Opening: Slav Invitation          11            11     11   \n",
       "Zukertort Opening: Tennison Gambit          42            42     42   \n",
       "Zukertort Opening: The Walrus                1             1      1   \n",
       "Zukertort Opening: Vos Gambit                3             3      3   \n",
       "Zukertort Opening: Wade Defense              1             1      1   \n",
       "\n",
       "                                      opening_eco  opening_ply  \n",
       "opening_name                                                    \n",
       "Alekhine Defense                               46           46  \n",
       "Alekhine Defense #2                             3            3  \n",
       "Alekhine Defense #3                             1            1  \n",
       "Alekhine Defense: Balogh Variation              1            1  \n",
       "Alekhine Defense: Brooklyn Variation            2            2  \n",
       "...                                           ...          ...  \n",
       "Zukertort Opening: Slav Invitation             11           11  \n",
       "Zukertort Opening: Tennison Gambit             42           42  \n",
       "Zukertort Opening: The Walrus                   1            1  \n",
       "Zukertort Opening: Vos Gambit                   3            3  \n",
       "Zukertort Opening: Wade Defense                 1            1  \n",
       "\n",
       "[1477 rows x 15 columns]"
      ],
      "text/html": "<div>\n<style scoped>\n    .dataframe tbody tr th:only-of-type {\n        vertical-align: middle;\n    }\n\n    .dataframe tbody tr th {\n        vertical-align: top;\n    }\n\n    .dataframe thead th {\n        text-align: right;\n    }\n</style>\n<table border=\"1\" class=\"dataframe\">\n  <thead>\n    <tr style=\"text-align: right;\">\n      <th></th>\n      <th>id</th>\n      <th>rated</th>\n      <th>created_at</th>\n      <th>last_move_at</th>\n      <th>turns</th>\n      <th>victory_status</th>\n      <th>winner</th>\n      <th>increment_code</th>\n      <th>white_id</th>\n      <th>white_rating</th>\n      <th>black_id</th>\n      <th>black_rating</th>\n      <th>moves</th>\n      <th>opening_eco</th>\n      <th>opening_ply</th>\n    </tr>\n    <tr>\n      <th>opening_name</th>\n      <th></th>\n      <th></th>\n      <th></th>\n      <th></th>\n      <th></th>\n      <th></th>\n      <th></th>\n      <th></th>\n      <th></th>\n      <th></th>\n      <th></th>\n      <th></th>\n      <th></th>\n      <th></th>\n      <th></th>\n    </tr>\n  </thead>\n  <tbody>\n    <tr>\n      <th>Alekhine Defense</th>\n      <td>46</td>\n      <td>46</td>\n      <td>46</td>\n      <td>46</td>\n      <td>46</td>\n      <td>46</td>\n      <td>46</td>\n      <td>46</td>\n      <td>46</td>\n      <td>46</td>\n      <td>46</td>\n      <td>46</td>\n      <td>46</td>\n      <td>46</td>\n      <td>46</td>\n    </tr>\n    <tr>\n      <th>Alekhine Defense #2</th>\n      <td>3</td>\n      <td>3</td>\n      <td>3</td>\n      <td>3</td>\n      <td>3</td>\n      <td>3</td>\n      <td>3</td>\n      <td>3</td>\n      <td>3</td>\n      <td>3</td>\n      <td>3</td>\n      <td>3</td>\n      <td>3</td>\n      <td>3</td>\n      <td>3</td>\n    </tr>\n    <tr>\n      <th>Alekhine Defense #3</th>\n      <td>1</td>\n      <td>1</td>\n      <td>1</td>\n      <td>1</td>\n      <td>1</td>\n      <td>1</td>\n      <td>1</td>\n      <td>1</td>\n      <td>1</td>\n      <td>1</td>\n      <td>1</td>\n      <td>1</td>\n      <td>1</td>\n      <td>1</td>\n      <td>1</td>\n    </tr>\n    <tr>\n      <th>Alekhine Defense: Balogh Variation</th>\n      <td>1</td>\n      <td>1</td>\n      <td>1</td>\n      <td>1</td>\n      <td>1</td>\n      <td>1</td>\n      <td>1</td>\n      <td>1</td>\n      <td>1</td>\n      <td>1</td>\n      <td>1</td>\n      <td>1</td>\n      <td>1</td>\n      <td>1</td>\n      <td>1</td>\n    </tr>\n    <tr>\n      <th>Alekhine Defense: Brooklyn Variation</th>\n      <td>2</td>\n      <td>2</td>\n      <td>2</td>\n      <td>2</td>\n      <td>2</td>\n      <td>2</td>\n      <td>2</td>\n      <td>2</td>\n      <td>2</td>\n      <td>2</td>\n      <td>2</td>\n      <td>2</td>\n      <td>2</td>\n      <td>2</td>\n      <td>2</td>\n    </tr>\n    <tr>\n      <th>...</th>\n      <td>...</td>\n      <td>...</td>\n      <td>...</td>\n      <td>...</td>\n      <td>...</td>\n      <td>...</td>\n      <td>...</td>\n      <td>...</td>\n      <td>...</td>\n      <td>...</td>\n      <td>...</td>\n      <td>...</td>\n      <td>...</td>\n      <td>...</td>\n      <td>...</td>\n    </tr>\n    <tr>\n      <th>Zukertort Opening: Slav Invitation</th>\n      <td>11</td>\n      <td>11</td>\n      <td>11</td>\n      <td>11</td>\n      <td>11</td>\n      <td>11</td>\n      <td>11</td>\n      <td>11</td>\n      <td>11</td>\n      <td>11</td>\n      <td>11</td>\n      <td>11</td>\n      <td>11</td>\n      <td>11</td>\n      <td>11</td>\n    </tr>\n    <tr>\n      <th>Zukertort Opening: Tennison Gambit</th>\n      <td>42</td>\n      <td>42</td>\n      <td>42</td>\n      <td>42</td>\n      <td>42</td>\n      <td>42</td>\n      <td>42</td>\n      <td>42</td>\n      <td>42</td>\n      <td>42</td>\n      <td>42</td>\n      <td>42</td>\n      <td>42</td>\n      <td>42</td>\n      <td>42</td>\n    </tr>\n    <tr>\n      <th>Zukertort Opening: The Walrus</th>\n      <td>1</td>\n      <td>1</td>\n      <td>1</td>\n      <td>1</td>\n      <td>1</td>\n      <td>1</td>\n      <td>1</td>\n      <td>1</td>\n      <td>1</td>\n      <td>1</td>\n      <td>1</td>\n      <td>1</td>\n      <td>1</td>\n      <td>1</td>\n      <td>1</td>\n    </tr>\n    <tr>\n      <th>Zukertort Opening: Vos Gambit</th>\n      <td>3</td>\n      <td>3</td>\n      <td>3</td>\n      <td>3</td>\n      <td>3</td>\n      <td>3</td>\n      <td>3</td>\n      <td>3</td>\n      <td>3</td>\n      <td>3</td>\n      <td>3</td>\n      <td>3</td>\n      <td>3</td>\n      <td>3</td>\n      <td>3</td>\n    </tr>\n    <tr>\n      <th>Zukertort Opening: Wade Defense</th>\n      <td>1</td>\n      <td>1</td>\n      <td>1</td>\n      <td>1</td>\n      <td>1</td>\n      <td>1</td>\n      <td>1</td>\n      <td>1</td>\n      <td>1</td>\n      <td>1</td>\n      <td>1</td>\n      <td>1</td>\n      <td>1</td>\n      <td>1</td>\n      <td>1</td>\n    </tr>\n  </tbody>\n</table>\n<p>1477 rows × 15 columns</p>\n</div>"
     },
     "metadata": {},
     "execution_count": 16
    }
   ],
   "source": [
    "data.groupby(['opening_name']).count()"
   ]
  },
  {
   "cell_type": "code",
   "execution_count": 19,
   "metadata": {},
   "outputs": [
    {
     "output_type": "execute_result",
     "data": {
      "text/plain": [
       "         created_at  last_move_at         turns  white_rating  black_rating  \\\n",
       "count  2.005800e+04  2.005800e+04  20058.000000  20058.000000  20058.000000   \n",
       "mean   1.483617e+12  1.483618e+12     60.465999   1596.631868   1588.831987   \n",
       "std    2.850151e+10  2.850140e+10     33.570585    291.253376    291.036126   \n",
       "min    1.376772e+12  1.376772e+12      1.000000    784.000000    789.000000   \n",
       "25%    1.477548e+12  1.477548e+12     37.000000   1398.000000   1391.000000   \n",
       "50%    1.496010e+12  1.496010e+12     55.000000   1567.000000   1562.000000   \n",
       "75%    1.503170e+12  1.503170e+12     79.000000   1793.000000   1784.000000   \n",
       "max    1.504493e+12  1.504494e+12    349.000000   2700.000000   2723.000000   \n",
       "\n",
       "        opening_ply  \n",
       "count  20058.000000  \n",
       "mean       4.816981  \n",
       "std        2.797152  \n",
       "min        1.000000  \n",
       "25%        3.000000  \n",
       "50%        4.000000  \n",
       "75%        6.000000  \n",
       "max       28.000000  "
      ],
      "text/html": "<div>\n<style scoped>\n    .dataframe tbody tr th:only-of-type {\n        vertical-align: middle;\n    }\n\n    .dataframe tbody tr th {\n        vertical-align: top;\n    }\n\n    .dataframe thead th {\n        text-align: right;\n    }\n</style>\n<table border=\"1\" class=\"dataframe\">\n  <thead>\n    <tr style=\"text-align: right;\">\n      <th></th>\n      <th>created_at</th>\n      <th>last_move_at</th>\n      <th>turns</th>\n      <th>white_rating</th>\n      <th>black_rating</th>\n      <th>opening_ply</th>\n    </tr>\n  </thead>\n  <tbody>\n    <tr>\n      <th>count</th>\n      <td>2.005800e+04</td>\n      <td>2.005800e+04</td>\n      <td>20058.000000</td>\n      <td>20058.000000</td>\n      <td>20058.000000</td>\n      <td>20058.000000</td>\n    </tr>\n    <tr>\n      <th>mean</th>\n      <td>1.483617e+12</td>\n      <td>1.483618e+12</td>\n      <td>60.465999</td>\n      <td>1596.631868</td>\n      <td>1588.831987</td>\n      <td>4.816981</td>\n    </tr>\n    <tr>\n      <th>std</th>\n      <td>2.850151e+10</td>\n      <td>2.850140e+10</td>\n      <td>33.570585</td>\n      <td>291.253376</td>\n      <td>291.036126</td>\n      <td>2.797152</td>\n    </tr>\n    <tr>\n      <th>min</th>\n      <td>1.376772e+12</td>\n      <td>1.376772e+12</td>\n      <td>1.000000</td>\n      <td>784.000000</td>\n      <td>789.000000</td>\n      <td>1.000000</td>\n    </tr>\n    <tr>\n      <th>25%</th>\n      <td>1.477548e+12</td>\n      <td>1.477548e+12</td>\n      <td>37.000000</td>\n      <td>1398.000000</td>\n      <td>1391.000000</td>\n      <td>3.000000</td>\n    </tr>\n    <tr>\n      <th>50%</th>\n      <td>1.496010e+12</td>\n      <td>1.496010e+12</td>\n      <td>55.000000</td>\n      <td>1567.000000</td>\n      <td>1562.000000</td>\n      <td>4.000000</td>\n    </tr>\n    <tr>\n      <th>75%</th>\n      <td>1.503170e+12</td>\n      <td>1.503170e+12</td>\n      <td>79.000000</td>\n      <td>1793.000000</td>\n      <td>1784.000000</td>\n      <td>6.000000</td>\n    </tr>\n    <tr>\n      <th>max</th>\n      <td>1.504493e+12</td>\n      <td>1.504494e+12</td>\n      <td>349.000000</td>\n      <td>2700.000000</td>\n      <td>2723.000000</td>\n      <td>28.000000</td>\n    </tr>\n  </tbody>\n</table>\n</div>"
     },
     "metadata": {},
     "execution_count": 19
    }
   ],
   "source": [
    "data.describe()"
   ]
  },
  {
   "cell_type": "code",
   "execution_count": null,
   "metadata": {},
   "outputs": [],
   "source": []
  }
 ]
}